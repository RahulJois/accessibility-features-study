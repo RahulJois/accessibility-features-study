{
 "cells": [
  {
   "cell_type": "markdown",
   "id": "b44237f0-e526-41d5-a06a-e024ad67ac92",
   "metadata": {},
   "source": [
    "## Imports"
   ]
  },
  {
   "cell_type": "code",
   "execution_count": 9,
   "id": "2a5f698a-0531-45cb-9601-aefb35847bc4",
   "metadata": {},
   "outputs": [],
   "source": [
    "from google_play_scraper import *\n",
    "import pandas as pd\n",
    "import numpy as np\n",
    "import matplotlib.pyplot as plt\n",
    "import seaborn as sns\n",
    "from operator import itemgetter\n",
    "import os\n",
    "N = 5\n",
    "pd.set_option('display.max_colwidth', None)"
   ]
  },
  {
   "cell_type": "markdown",
   "id": "f3d294de-3564-44eb-be5a-7429beee1295",
   "metadata": {},
   "source": [
    "## Variables"
   ]
  },
  {
   "cell_type": "code",
   "execution_count": 16,
   "id": "3856f14f-e508-4d45-8af4-f580d1f86895",
   "metadata": {},
   "outputs": [],
   "source": [
    "main_folder = '/home/ics-home/sentiment_analysis/'\n",
    "category_folders = ['apps_made_for_disabled/','browser/','entertainment/','music/','shopping/','social_media/']\n",
    "folder_catergory_map = {'apps_made_for_disabled/':'Accessibility Apps',\n",
    "                        'browser/':'Browser',\n",
    "                        'entertainment/':'Entertainment',\n",
    "                        'music/':'Music',\n",
    "                        'shopping/':'Shopping',\n",
    "                        'social_media/':'Social Media'\n",
    "                       }\n",
    "dfs = []"
   ]
  },
  {
   "cell_type": "code",
   "execution_count": null,
   "id": "46f6b94f-4461-4b07-8d29-fc9f4beb274e",
   "metadata": {},
   "outputs": [],
   "source": []
  },
  {
   "cell_type": "markdown",
   "id": "0ccb7caa-8fe1-4589-baeb-a21cfb9384c7",
   "metadata": {},
   "source": [
    "## Combine Reviews from all apps in a category to a single file"
   ]
  },
  {
   "cell_type": "code",
   "execution_count": 17,
   "id": "ce41beda-918a-4974-9b94-683c29a97d06",
   "metadata": {},
   "outputs": [],
   "source": [
    "for folder in os.listdir(main_folder):\n",
    "    folder_path = os.path.join(main_folder, folder)\n",
    "    if os.path.isdir(folder_path):  # Check if folder\n",
    "        csv_files = [f for f in os.listdir(folder_path) if f.endswith('.csv')]  # Get CSV files in folder\n",
    "        if csv_files:  # Check if any CSV files in folder\n",
    "            df_merged = pd.concat([pd.read_csv(os.path.join(folder_path, f)) for f in csv_files])\n",
    "            # Save merged data to new CSV file in folder\n",
    "            #df_merged.to_csv(os.path.join(folder_path, f'{folder}_merged.csv'), index=False)\n",
    "            df_merged.to_csv(os.path.join(folder_path, 'merged_reviews.csv'), index=False)"
   ]
  },
  {
   "cell_type": "markdown",
   "id": "3f00bd44-914e-48ed-b192-e88b497ddbef",
   "metadata": {},
   "source": [
    "## Add Category Field to all the Merged Reviews"
   ]
  },
  {
   "cell_type": "code",
   "execution_count": 18,
   "id": "24ec9c41-7a7d-4112-b824-7a72419d9471",
   "metadata": {},
   "outputs": [
    {
     "name": "stdout",
     "output_type": "stream",
     "text": [
      "Working on: apps_made_for_disabled/\n",
      "Working on: browser/\n",
      "Working on: entertainment/\n",
      "Working on: music/\n",
      "Working on: shopping/\n",
      "Working on: social_media/\n"
     ]
    }
   ],
   "source": [
    "for folder in category_folders:\n",
    "    folder_path = os.path.join(main_folder, folder)\n",
    "    csv_file = os.path.join(folder_path,'merged_reviews.csv')\n",
    "    if os.path.isfile(csv_file):\n",
    "        df = pd.read_csv(csv_file)\n",
    "        print(f\"Working on: {folder}\")\n",
    "        df['category'] = folder_catergory_map[folder]\n",
    "        df.to_csv(os.path.join(folder_path, 'merged_reviews.csv'), index=False)"
   ]
  },
  {
   "cell_type": "markdown",
   "id": "f941aeb9-201b-42c9-af49-1595f7211219",
   "metadata": {},
   "source": [
    "## Iterate through folders"
   ]
  },
  {
   "cell_type": "code",
   "execution_count": 19,
   "id": "954c003d-3d9f-4c35-9267-15709c52004e",
   "metadata": {},
   "outputs": [
    {
     "name": "stdout",
     "output_type": "stream",
     "text": [
      "Working on: /home/ics-home/sentiment_analysis/apps_made_for_disabled/merged_reviews.csv\n",
      "Working on: /home/ics-home/sentiment_analysis/browser/merged_reviews.csv\n",
      "Working on: /home/ics-home/sentiment_analysis/entertainment/merged_reviews.csv\n",
      "Working on: /home/ics-home/sentiment_analysis/music/merged_reviews.csv\n",
      "Working on: /home/ics-home/sentiment_analysis/shopping/merged_reviews.csv\n",
      "Working on: /home/ics-home/sentiment_analysis/social_media/merged_reviews.csv\n"
     ]
    }
   ],
   "source": [
    "for app_folder in os.listdir(main_folder):\n",
    "    app_path = os.path.join(main_folder, app_folder)\n",
    "    if os.path.isdir(app_path):\n",
    "        csv_path = os.path.join(app_path, 'merged_reviews.csv')\n",
    "        print(f\"Working on: {csv_path}\")\n",
    "        if os.path.isfile(csv_path):\n",
    "            df = pd.read_csv(csv_path)\n",
    "            dfs.append(df)"
   ]
  },
  {
   "cell_type": "markdown",
   "id": "ae35d109-f06b-4355-a309-27f9d7983b14",
   "metadata": {},
   "source": [
    "## Merging and Calculating Percentage"
   ]
  },
  {
   "cell_type": "code",
   "execution_count": 20,
   "id": "290e7700-13c4-444f-9301-5c4b142eee51",
   "metadata": {},
   "outputs": [],
   "source": [
    "merged_df = pd.concat(dfs)\n",
    "\n",
    "grouped = merged_df.groupby(['category', 'sentiment']).size().unstack()\n",
    "\n",
    "grouped['Positive_pct'] = grouped['positive'] / grouped.sum(axis=1)\n",
    "grouped['Negative_pct'] = grouped['negative'] / grouped.sum(axis=1)"
   ]
  },
  {
   "cell_type": "code",
   "execution_count": 21,
   "id": "ce33e408-cf99-4c2a-bd04-d218ff56804c",
   "metadata": {},
   "outputs": [
    {
     "data": {
      "text/html": [
       "<div>\n",
       "<style scoped>\n",
       "    .dataframe tbody tr th:only-of-type {\n",
       "        vertical-align: middle;\n",
       "    }\n",
       "\n",
       "    .dataframe tbody tr th {\n",
       "        vertical-align: top;\n",
       "    }\n",
       "\n",
       "    .dataframe thead th {\n",
       "        text-align: right;\n",
       "    }\n",
       "</style>\n",
       "<table border=\"1\" class=\"dataframe\">\n",
       "  <thead>\n",
       "    <tr style=\"text-align: right;\">\n",
       "      <th>sentiment</th>\n",
       "      <th>negative</th>\n",
       "      <th>positive</th>\n",
       "      <th>Positive_pct</th>\n",
       "      <th>Negative_pct</th>\n",
       "    </tr>\n",
       "    <tr>\n",
       "      <th>category</th>\n",
       "      <th></th>\n",
       "      <th></th>\n",
       "      <th></th>\n",
       "      <th></th>\n",
       "    </tr>\n",
       "  </thead>\n",
       "  <tbody>\n",
       "    <tr>\n",
       "      <th>Accessibility Apps</th>\n",
       "      <td>2430</td>\n",
       "      <td>2700</td>\n",
       "      <td>0.526316</td>\n",
       "      <td>0.473636</td>\n",
       "    </tr>\n",
       "    <tr>\n",
       "      <th>Browser</th>\n",
       "      <td>751</td>\n",
       "      <td>1072</td>\n",
       "      <td>0.588042</td>\n",
       "      <td>0.411825</td>\n",
       "    </tr>\n",
       "    <tr>\n",
       "      <th>Entertainment</th>\n",
       "      <td>2724</td>\n",
       "      <td>1722</td>\n",
       "      <td>0.387314</td>\n",
       "      <td>0.612632</td>\n",
       "    </tr>\n",
       "    <tr>\n",
       "      <th>Music</th>\n",
       "      <td>611</td>\n",
       "      <td>725</td>\n",
       "      <td>0.542665</td>\n",
       "      <td>0.457150</td>\n",
       "    </tr>\n",
       "    <tr>\n",
       "      <th>Shopping</th>\n",
       "      <td>888</td>\n",
       "      <td>1409</td>\n",
       "      <td>0.613409</td>\n",
       "      <td>0.386488</td>\n",
       "    </tr>\n",
       "    <tr>\n",
       "      <th>Social Media</th>\n",
       "      <td>1582</td>\n",
       "      <td>1308</td>\n",
       "      <td>0.452595</td>\n",
       "      <td>0.547319</td>\n",
       "    </tr>\n",
       "  </tbody>\n",
       "</table>\n",
       "</div>"
      ],
      "text/plain": [
       "sentiment           negative  positive  Positive_pct  Negative_pct\n",
       "category                                                          \n",
       "Accessibility Apps      2430      2700      0.526316      0.473636\n",
       "Browser                  751      1072      0.588042      0.411825\n",
       "Entertainment           2724      1722      0.387314      0.612632\n",
       "Music                    611       725      0.542665      0.457150\n",
       "Shopping                 888      1409      0.613409      0.386488\n",
       "Social Media            1582      1308      0.452595      0.547319"
      ]
     },
     "execution_count": 21,
     "metadata": {},
     "output_type": "execute_result"
    }
   ],
   "source": [
    "grouped"
   ]
  },
  {
   "cell_type": "code",
   "execution_count": 12,
   "id": "1c69210a-b044-41fd-8040-955fcdadfc6a",
   "metadata": {},
   "outputs": [],
   "source": [
    "grouped = grouped.reindex(columns=['positive', 'Positive_pct', 'negative','Negative_pct'])"
   ]
  },
  {
   "cell_type": "markdown",
   "id": "84f3b5f9-8cf7-40f6-a56c-b0edf6d05990",
   "metadata": {},
   "source": [
    "## Create Plot"
   ]
  },
  {
   "cell_type": "code",
   "execution_count": 8,
   "id": "4ab88786-c351-424a-b48a-7c327318c24e",
   "metadata": {},
   "outputs": [
    {
     "data": {
      "text/plain": [
       "\"\\nax = grouped[['Positive_pct', 'Negative_pct']].plot(kind='bar', stacked=True, figsize=(10, 6))\\n\\nax.set_title('Percentage of Positive and Negative Reviews by App Category')\\nax.set_xlabel('App Category')\\nax.set_ylabel('Percentage')\\n\\n# Rotate the x-axis labels for readability\\nplt.xticks(rotation=45)\\n\""
      ]
     },
     "execution_count": 8,
     "metadata": {},
     "output_type": "execute_result"
    }
   ],
   "source": [
    "'''\n",
    "ax = grouped[['Positive_pct', 'Negative_pct']].plot(kind='bar', stacked=True, figsize=(10, 6))\n",
    "\n",
    "ax.set_title('Percentage of Positive and Negative Reviews by App Category')\n",
    "ax.set_xlabel('App Category')\n",
    "ax.set_ylabel('Percentage')\n",
    "\n",
    "# Rotate the x-axis labels for readability\n",
    "plt.xticks(rotation=45)\n",
    "'''"
   ]
  },
  {
   "cell_type": "code",
   "execution_count": 9,
   "id": "4c3b44c4-86bb-4c91-8c69-60c4b989d17a",
   "metadata": {},
   "outputs": [
    {
     "data": {
      "image/png": "[encoded data removed]",
      "text/plain": [
       "<Figure size 720x432 with 1 Axes>"
      ]
     },
     "metadata": {
      "needs_background": "light"
     },
     "output_type": "display_data"
    }
   ],
   "source": [
    "# Create a figure and axis\n",
    "fig, ax = plt.subplots(figsize=(10, 6))\n",
    "\n",
    "# Set the width of the bars\n",
    "bar_width = 0.25\n",
    "\n",
    "# Set the positions of the bars on the x-axis\n",
    "x_pos = np.arange(len(grouped.index))\n",
    "\n",
    "# Plot the positive and negative bars for each category\n",
    "ax.bar(x_pos, grouped['Positive_pct'], width=bar_width, align='center', color='green', label='Positive')\n",
    "ax.bar(x_pos + bar_width, grouped['Negative_pct'], width=bar_width, align='center', color='red', label='Negative', alpha=0.7)\n",
    "\n",
    "# Set the x-axis labels to the category names\n",
    "ax.set_xticks(x_pos + bar_width / 2)\n",
    "ax.set_xticklabels(grouped.index, rotation=45, ha='right')\n",
    "\n",
    "# Set the y-axis limits and labels\n",
    "ax.set_ylim(0, 1)\n",
    "ax.set_ylabel('Percentage')\n",
    "\n",
    "# Add a legend and title\n",
    "ax.legend()\n",
    "ax.set_title('Percentage of Positive and Negative Reviews by App Category')\n",
    "\n",
    "plt.show()"
   ]
  },
  {
   "cell_type": "code",
   "execution_count": 22,
   "id": "d046cbfb-106f-4278-9040-659c51c07ce2",
   "metadata": {},
   "outputs": [],
   "source": [
    "main_folder2 = '/home/ics-home/sentiment_analysis_less_known/'\n",
    "category_folders = ['apps_made_for_disabled/','browser/','entertainment/','music/','shopping/','social_media/']\n",
    "folder_catergory_map = {'apps_made_for_disabled/':'Accessibility Apps',\n",
    "                        'browser/':'Browser',\n",
    "                        'entertainment/':'Entertainment',\n",
    "                        'music/':'Music',\n",
    "                        'shopping/':'Shopping',\n",
    "                        'social_media/':'Social Media'\n",
    "                       }\n",
    "dfs2 = []"
   ]
  },
  {
   "cell_type": "code",
   "execution_count": 23,
   "id": "13067d0d-9690-4845-bb4f-23e1ef17c8a1",
   "metadata": {},
   "outputs": [],
   "source": [
    "for folder in os.listdir(main_folder2):\n",
    "    folder_path = os.path.join(main_folder2, folder)\n",
    "    if os.path.isdir(folder_path):  # Check if folder\n",
    "        csv_files = [f for f in os.listdir(folder_path) if f.endswith('.csv')]  # Get CSV files in folder\n",
    "        if csv_files:  # Check if any CSV files in folder\n",
    "            df_merged = pd.concat([pd.read_csv(os.path.join(folder_path, f)) for f in csv_files])\n",
    "            # Save merged data to new CSV file in folder\n",
    "            #df_merged.to_csv(os.path.join(folder_path, f'{folder}_merged.csv'), index=False)\n",
    "            df_merged.to_csv(os.path.join(folder_path, 'merged_reviews.csv'), index=False)"
   ]
  },
  {
   "cell_type": "code",
   "execution_count": 24,
   "id": "6401d693-bf81-4bf3-b2dc-f92d06c79ad0",
   "metadata": {},
   "outputs": [
    {
     "name": "stdout",
     "output_type": "stream",
     "text": [
      "Working on: apps_made_for_disabled/\n",
      "Working on: browser/\n",
      "Working on: entertainment/\n",
      "Working on: music/\n",
      "Working on: shopping/\n",
      "Working on: social_media/\n"
     ]
    }
   ],
   "source": [
    "for folder in category_folders:\n",
    "    folder_path = os.path.join(main_folder2, folder)\n",
    "    csv_file = os.path.join(folder_path,'merged_reviews.csv')\n",
    "    if os.path.isfile(csv_file):\n",
    "        df = pd.read_csv(csv_file)\n",
    "        print(f\"Working on: {folder}\")\n",
    "        df['category'] = folder_catergory_map[folder]\n",
    "        df.to_csv(os.path.join(folder_path, 'merged_reviews.csv'), index=False)"
   ]
  },
  {
   "cell_type": "code",
   "execution_count": 25,
   "id": "67e77910-c682-4a2d-a6dd-b47b0405426e",
   "metadata": {},
   "outputs": [
    {
     "name": "stdout",
     "output_type": "stream",
     "text": [
      "Working on: /home/ics-home/sentiment_analysis_less_known/apps_made_for_disabled/merged_reviews.csv\n",
      "Working on: /home/ics-home/sentiment_analysis_less_known/browser/merged_reviews.csv\n",
      "Working on: /home/ics-home/sentiment_analysis_less_known/entertainment/merged_reviews.csv\n",
      "Working on: /home/ics-home/sentiment_analysis_less_known/music/merged_reviews.csv\n",
      "Working on: /home/ics-home/sentiment_analysis_less_known/shopping/merged_reviews.csv\n",
      "Working on: /home/ics-home/sentiment_analysis_less_known/social_media/merged_reviews.csv\n"
     ]
    }
   ],
   "source": [
    "for app_folder in os.listdir(main_folder2):\n",
    "    app_path = os.path.join(main_folder2, app_folder)\n",
    "    if os.path.isdir(app_path):\n",
    "        csv_path = os.path.join(app_path, 'merged_reviews.csv')\n",
    "        print(f\"Working on: {csv_path}\")\n",
    "        if os.path.isfile(csv_path):\n",
    "            df = pd.read_csv(csv_path)\n",
    "            dfs2.append(df)"
   ]
  },
  {
   "cell_type": "code",
   "execution_count": 26,
   "id": "c4ca7d2f-40cc-40a4-9f2d-779fef4bb608",
   "metadata": {},
   "outputs": [],
   "source": [
    "merged_df = pd.concat(dfs2)\n",
    "\n",
    "grouped2 = merged_df.groupby(['category', 'sentiment']).size().unstack()\n",
    "\n",
    "grouped2['Positive_pct'] = grouped2['positive'] / grouped2.sum(axis=1)\n",
    "grouped2['Negative_pct'] = grouped2['negative'] / grouped2.sum(axis=1)"
   ]
  },
  {
   "cell_type": "code",
   "execution_count": null,
   "id": "0d942c53-81e3-488a-8f8f-1bf4b5723d77",
   "metadata": {},
   "outputs": [],
   "source": []
  },
  {
   "cell_type": "code",
   "execution_count": null,
   "id": "b4c02775-b0aa-421d-a21b-23c5a89c0695",
   "metadata": {},
   "outputs": [],
   "source": []
  },
  {
   "cell_type": "code",
   "execution_count": 57,
   "id": "56411903-7a32-4e70-b884-f9ebe2f4de25",
   "metadata": {},
   "outputs": [
    {
     "data": {
      "image/png": "[encoded data removed]",
      "text/plain": [
       "<Figure size 864x576 with 1 Axes>"
      ]
     },
     "metadata": {
      "needs_background": "light"
     },
     "output_type": "display_data"
    }
   ],
   "source": [
    "import matplotlib.pyplot as plt\n",
    "import numpy as np\n",
    "\n",
    "colors = ['#4C72B0', '#64B5CD', '#55A868', '#CCB974', '#8172B2', '#C44E52']\n",
    "\n",
    "# Set up data for grouped bar chart\n",
    "categories = grouped.index\n",
    "bar_width = 0.2\n",
    "x_pos1 = np.arange(len(categories))\n",
    "x_pos2 = [x + bar_width for x in x_pos1]\n",
    "\n",
    "# Create plot\n",
    "fig, ax = plt.subplots(figsize=(12, 8))\n",
    "plt.bar(x_pos1, grouped['Positive_pct'], width=bar_width, color=colors[0], label='Most Popular - Positive')\n",
    "plt.bar(x_pos1, grouped['Negative_pct'], width=bar_width, color=colors[1], bottom=grouped['Positive_pct'], label='Most Popular - Negative')\n",
    "plt.bar(x_pos2, grouped2['Positive_pct'], width=bar_width, color=colors[2], label='Less Known - Positive')\n",
    "plt.bar(x_pos2, grouped2['Negative_pct'], width=bar_width, color=colors[3], bottom=grouped2['Positive_pct'], label='Less Known - Negative')\n",
    "\n",
    "# Add labels and title\n",
    "plt.xlabel('Category')\n",
    "plt.ylabel('Percentage')\n",
    "plt.xticks(x_pos1 + bar_width/2, categories)\n",
    "ax.set_xticklabels(grouped.index, rotation=45, ha='right')\n",
    "\n",
    "plt.title('Comparison of Positive and Negative Reviews by Category for Most Popular and Less Known Apps')\n",
    "\n",
    "# Add legend\n",
    "#plt.legend(loc='upper left')\n",
    "plt.legend(loc='upper right', bbox_to_anchor=(1.3, 1))\n",
    "# Show plot\n",
    "plt.show()\n"
   ]
  },
  {
   "cell_type": "code",
   "execution_count": 29,
   "id": "f481639e-ce3f-4d43-ad08-8e6e8f3c127a",
   "metadata": {},
   "outputs": [
    {
     "data": {
      "image/png": "[encoded data removed]",
      "text/plain": [
       "<Figure size 432x288 with 1 Axes>"
      ]
     },
     "metadata": {
      "needs_background": "light"
     },
     "output_type": "display_data"
    }
   ],
   "source": [
    "import matplotlib.pyplot as plt\n",
    "import numpy as np\n",
    "\n",
    "# Create sample dataframes\n",
    "most_popular_apps = pd.DataFrame({'Category': ['Category A', 'Category B', 'Category C', 'Category D', 'Category E'],\n",
    "                                   'Positive': [30, 45, 60, 20, 35],\n",
    "                                   'Negative': [70, 55, 40, 80, 65]})\n",
    "\n",
    "less_known_apps = pd.DataFrame({'Category': ['Category A', 'Category B', 'Category C', 'Category D', 'Category E'],\n",
    "                                   'Positive': [20, 35, 50, 10, 25],\n",
    "                                   'Negative': [80, 65, 50, 90, 75]})\n",
    "\n",
    "# Set up data for grouped bar chart\n",
    "categories = most_popular_apps['Category']\n",
    "bar_width = 0.35\n",
    "x_pos1 = np.arange(len(categories))\n",
    "x_pos2 = [x + bar_width for x in x_pos1]\n",
    "\n",
    "# Create plot\n",
    "fig, ax = plt.subplots()\n",
    "plt.bar(x_pos1, most_popular_apps['Positive'], width=bar_width, color='b', label='Most Popular - Positive')\n",
    "plt.bar(x_pos1, most_popular_apps['Negative'], width=bar_width, color='r', bottom=most_popular_apps['Positive'], label='Most Popular - Negative')\n",
    "plt.bar(x_pos2, less_known_apps['Positive'], width=bar_width, color='g', label='Less Known - Positive')\n",
    "plt.bar(x_pos2, less_known_apps['Negative'], width=bar_width, color='y', bottom=less_known_apps['Positive'], label='Less Known - Negative')\n",
    "\n",
    "# Add labels and title\n",
    "plt.xlabel('Category')\n",
    "plt.ylabel('Percentage')\n",
    "plt.xticks(x_pos1 + bar_width/2, categories)\n",
    "plt.title('Percentage of Positive and Negative Reviews by Category')\n",
    "\n",
    "# Add legend\n",
    "plt.legend(loc='upper left')\n",
    "\n",
    "# Show plot\n",
    "plt.show()\n"
   ]
  },
  {
   "cell_type": "code",
   "execution_count": 39,
   "id": "7f8813e0-1425-4eb4-b528-1453178c7f3d",
   "metadata": {},
   "outputs": [
    {
     "data": {
      "text/plain": [
       "category\n",
       "Accessibility Apps    2700\n",
       "Browser               1072\n",
       "Entertainment         1722\n",
       "Music                  725\n",
       "Shopping              1409\n",
       "Social Media          1308\n",
       "Name: positive, dtype: int64"
      ]
     },
     "execution_count": 39,
     "metadata": {},
     "output_type": "execute_result"
    }
   ],
   "source": [
    "grouped['positive']"
   ]
  },
  {
   "cell_type": "code",
   "execution_count": 42,
   "id": "bba72a3c-c4f4-4c7d-9215-107213fe0081",
   "metadata": {},
   "outputs": [
    {
     "data": {
      "text/html": [
       "<div>\n",
       "<style scoped>\n",
       "    .dataframe tbody tr th:only-of-type {\n",
       "        vertical-align: middle;\n",
       "    }\n",
       "\n",
       "    .dataframe tbody tr th {\n",
       "        vertical-align: top;\n",
       "    }\n",
       "\n",
       "    .dataframe thead th {\n",
       "        text-align: right;\n",
       "    }\n",
       "</style>\n",
       "<table border=\"1\" class=\"dataframe\">\n",
       "  <thead>\n",
       "    <tr style=\"text-align: right;\">\n",
       "      <th>sentiment</th>\n",
       "      <th>negative</th>\n",
       "      <th>positive</th>\n",
       "      <th>Positive_pct</th>\n",
       "      <th>Negative_pct</th>\n",
       "    </tr>\n",
       "    <tr>\n",
       "      <th>category</th>\n",
       "      <th></th>\n",
       "      <th></th>\n",
       "      <th></th>\n",
       "      <th></th>\n",
       "    </tr>\n",
       "  </thead>\n",
       "  <tbody>\n",
       "    <tr>\n",
       "      <th>Accessibility Apps</th>\n",
       "      <td>2430</td>\n",
       "      <td>2700</td>\n",
       "      <td>0.526316</td>\n",
       "      <td>0.473636</td>\n",
       "    </tr>\n",
       "    <tr>\n",
       "      <th>Browser</th>\n",
       "      <td>751</td>\n",
       "      <td>1072</td>\n",
       "      <td>0.588042</td>\n",
       "      <td>0.411825</td>\n",
       "    </tr>\n",
       "    <tr>\n",
       "      <th>Entertainment</th>\n",
       "      <td>2724</td>\n",
       "      <td>1722</td>\n",
       "      <td>0.387314</td>\n",
       "      <td>0.612632</td>\n",
       "    </tr>\n",
       "    <tr>\n",
       "      <th>Music</th>\n",
       "      <td>611</td>\n",
       "      <td>725</td>\n",
       "      <td>0.542665</td>\n",
       "      <td>0.457150</td>\n",
       "    </tr>\n",
       "    <tr>\n",
       "      <th>Shopping</th>\n",
       "      <td>888</td>\n",
       "      <td>1409</td>\n",
       "      <td>0.613409</td>\n",
       "      <td>0.386488</td>\n",
       "    </tr>\n",
       "    <tr>\n",
       "      <th>Social Media</th>\n",
       "      <td>1582</td>\n",
       "      <td>1308</td>\n",
       "      <td>0.452595</td>\n",
       "      <td>0.547319</td>\n",
       "    </tr>\n",
       "  </tbody>\n",
       "</table>\n",
       "</div>"
      ],
      "text/plain": [
       "sentiment           negative  positive  Positive_pct  Negative_pct\n",
       "category                                                          \n",
       "Accessibility Apps      2430      2700      0.526316      0.473636\n",
       "Browser                  751      1072      0.588042      0.411825\n",
       "Entertainment           2724      1722      0.387314      0.612632\n",
       "Music                    611       725      0.542665      0.457150\n",
       "Shopping                 888      1409      0.613409      0.386488\n",
       "Social Media            1582      1308      0.452595      0.547319"
      ]
     },
     "execution_count": 42,
     "metadata": {},
     "output_type": "execute_result"
    }
   ],
   "source": [
    "grouped"
   ]
  },
  {
   "cell_type": "code",
   "execution_count": 45,
   "id": "866327af-62a1-4c7c-b70a-74e7f52c4e4d",
   "metadata": {},
   "outputs": [
    {
     "data": {
      "text/html": [
       "<div>\n",
       "<style scoped>\n",
       "    .dataframe tbody tr th:only-of-type {\n",
       "        vertical-align: middle;\n",
       "    }\n",
       "\n",
       "    .dataframe tbody tr th {\n",
       "        vertical-align: top;\n",
       "    }\n",
       "\n",
       "    .dataframe thead th {\n",
       "        text-align: right;\n",
       "    }\n",
       "</style>\n",
       "<table border=\"1\" class=\"dataframe\">\n",
       "  <thead>\n",
       "    <tr style=\"text-align: right;\">\n",
       "      <th>sentiment</th>\n",
       "      <th>negative</th>\n",
       "      <th>positive</th>\n",
       "      <th>Positive_pct</th>\n",
       "      <th>Negative_pct</th>\n",
       "    </tr>\n",
       "    <tr>\n",
       "      <th>category</th>\n",
       "      <th></th>\n",
       "      <th></th>\n",
       "      <th></th>\n",
       "      <th></th>\n",
       "    </tr>\n",
       "  </thead>\n",
       "  <tbody>\n",
       "    <tr>\n",
       "      <th>Accessibility Apps</th>\n",
       "      <td>174</td>\n",
       "      <td>532</td>\n",
       "      <td>0.753541</td>\n",
       "      <td>0.246196</td>\n",
       "    </tr>\n",
       "    <tr>\n",
       "      <th>Browser</th>\n",
       "      <td>915</td>\n",
       "      <td>867</td>\n",
       "      <td>0.486532</td>\n",
       "      <td>0.513328</td>\n",
       "    </tr>\n",
       "    <tr>\n",
       "      <th>Entertainment</th>\n",
       "      <td>4413</td>\n",
       "      <td>4119</td>\n",
       "      <td>0.482771</td>\n",
       "      <td>0.517200</td>\n",
       "    </tr>\n",
       "    <tr>\n",
       "      <th>Music</th>\n",
       "      <td>722</td>\n",
       "      <td>926</td>\n",
       "      <td>0.561893</td>\n",
       "      <td>0.437957</td>\n",
       "    </tr>\n",
       "    <tr>\n",
       "      <th>Shopping</th>\n",
       "      <td>252</td>\n",
       "      <td>374</td>\n",
       "      <td>0.597444</td>\n",
       "      <td>0.402172</td>\n",
       "    </tr>\n",
       "    <tr>\n",
       "      <th>Social Media</th>\n",
       "      <td>172</td>\n",
       "      <td>223</td>\n",
       "      <td>0.564557</td>\n",
       "      <td>0.434822</td>\n",
       "    </tr>\n",
       "  </tbody>\n",
       "</table>\n",
       "</div>"
      ],
      "text/plain": [
       "sentiment           negative  positive  Positive_pct  Negative_pct\n",
       "category                                                          \n",
       "Accessibility Apps       174       532      0.753541      0.246196\n",
       "Browser                  915       867      0.486532      0.513328\n",
       "Entertainment           4413      4119      0.482771      0.517200\n",
       "Music                    722       926      0.561893      0.437957\n",
       "Shopping                 252       374      0.597444      0.402172\n",
       "Social Media             172       223      0.564557      0.434822"
      ]
     },
     "execution_count": 45,
     "metadata": {},
     "output_type": "execute_result"
    }
   ],
   "source": [
    "grouped2"
   ]
  },
  {
   "cell_type": "code",
   "execution_count": null,
   "id": "58347159-370a-49e0-ba7b-b7883bf0d051",
   "metadata": {},
   "outputs": [],
   "source": []
  }
 ],
 "metadata": {
  "kernelspec": {
   "display_name": "Python 3 (ipykernel)",
   "language": "python",
   "name": "python3"
  },
  "language_info": {
   "codemirror_mode": {
    "name": "ipython",
    "version": 3
   },
   "file_extension": ".py",
   "mimetype": "text/x-python",
   "name": "python",
   "nbconvert_exporter": "python",
   "pygments_lexer": "ipython3",
   "version": "3.9.7"
  }
 },
 "nbformat": 4,
 "nbformat_minor": 5
}
