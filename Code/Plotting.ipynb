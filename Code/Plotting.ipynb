{
 "cells": [
  {
   "cell_type": "markdown",
   "id": "b44237f0-e526-41d5-a06a-e024ad67ac92",
   "metadata": {},
   "source": [
    "## Imports"
   ]
  },
  {
   "cell_type": "code",
   "execution_count": 1,
   "id": "2a5f698a-0531-45cb-9601-aefb35847bc4",
   "metadata": {},
   "outputs": [],
   "source": [
    "from google_play_scraper import *\n",
    "import pandas as pd\n",
    "import numpy as np\n",
    "import matplotlib.pyplot as plt\n",
    "import seaborn as sns\n",
    "from operator import itemgetter\n",
    "import os\n",
    "N = 5\n",
    "pd.set_option('display.max_colwidth', None)"
   ]
  },
  {
   "cell_type": "markdown",
   "id": "f3d294de-3564-44eb-be5a-7429beee1295",
   "metadata": {},
   "source": [
    "## Variables"
   ]
  },
  {
   "cell_type": "code",
   "execution_count": 2,
   "id": "3856f14f-e508-4d45-8af4-f580d1f86895",
   "metadata": {},
   "outputs": [],
   "source": [
    "main_folder = '/home/ics-home/sentiment_analysis/'\n",
    "category_folders = ['apps_made_for_disabled/','browser/','entertainment/','music/','shopping/','social_media/']\n",
    "folder_catergory_map = {'apps_made_for_disabled/':'Accessibility Apps',\n",
    "                        'browser/':'Browser',\n",
    "                        'entertainment/':'Entertainment',\n",
    "                        'music/':'Music',\n",
    "                        'shopping/':'Shopping',\n",
    "                        'social_media/':'Social Media'\n",
    "                       }\n",
    "dfs = []"
   ]
  },
  {
   "cell_type": "markdown",
   "id": "0ccb7caa-8fe1-4589-baeb-a21cfb9384c7",
   "metadata": {},
   "source": [
    "## Combine Reviews from all apps in a category to a single file"
   ]
  },
  {
   "cell_type": "code",
   "execution_count": 3,
   "id": "ce41beda-918a-4974-9b94-683c29a97d06",
   "metadata": {},
   "outputs": [],
   "source": [
    "for folder in os.listdir(main_folder):\n",
    "    folder_path = os.path.join(main_folder, folder)\n",
    "    if os.path.isdir(folder_path):  # Check if folder\n",
    "        csv_files = [f for f in os.listdir(folder_path) if f.endswith('.csv')]  # Get CSV files in folder\n",
    "        if csv_files:  # Check if any CSV files in folder\n",
    "            df_merged = pd.concat([pd.read_csv(os.path.join(folder_path, f)) for f in csv_files])\n",
    "            # Save merged data to new CSV file in folder\n",
    "            #df_merged.to_csv(os.path.join(folder_path, f'{folder}_merged.csv'), index=False)\n",
    "            df_merged.to_csv(os.path.join(folder_path, 'merged_reviews.csv'), index=False)"
   ]
  },
  {
   "cell_type": "markdown",
   "id": "3f00bd44-914e-48ed-b192-e88b497ddbef",
   "metadata": {},
   "source": [
    "## Add Category Field to all the Merged Reviews"
   ]
  },
  {
   "cell_type": "code",
   "execution_count": 4,
   "id": "24ec9c41-7a7d-4112-b824-7a72419d9471",
   "metadata": {},
   "outputs": [
    {
     "name": "stdout",
     "output_type": "stream",
     "text": [
      "Working on: apps_made_for_disabled/\n",
      "Working on: browser/\n",
      "Working on: entertainment/\n",
      "Working on: music/\n",
      "Working on: shopping/\n",
      "Working on: social_media/\n"
     ]
    }
   ],
   "source": [
    "for folder in category_folders:\n",
    "    folder_path = os.path.join(main_folder, folder)\n",
    "    csv_file = os.path.join(folder_path,'merged_reviews.csv')\n",
    "    if os.path.isfile(csv_file):\n",
    "        df = pd.read_csv(csv_file)\n",
    "        print(f\"Working on: {folder}\")\n",
    "        df['category'] = folder_catergory_map[folder]\n",
    "        df.to_csv(os.path.join(folder_path, 'merged_reviews.csv'), index=False)"
   ]
  },
  {
   "cell_type": "markdown",
   "id": "f941aeb9-201b-42c9-af49-1595f7211219",
   "metadata": {},
   "source": [
    "## Iterate through folders"
   ]
  },
  {
   "cell_type": "code",
   "execution_count": 5,
   "id": "954c003d-3d9f-4c35-9267-15709c52004e",
   "metadata": {},
   "outputs": [
    {
     "name": "stdout",
     "output_type": "stream",
     "text": [
      "Working on: /home/ics-home/sentiment_analysis/apps_made_for_disabled/merged_reviews.csv\n",
      "Working on: /home/ics-home/sentiment_analysis/browser/merged_reviews.csv\n",
      "Working on: /home/ics-home/sentiment_analysis/entertainment/merged_reviews.csv\n",
      "Working on: /home/ics-home/sentiment_analysis/music/merged_reviews.csv\n",
      "Working on: /home/ics-home/sentiment_analysis/shopping/merged_reviews.csv\n",
      "Working on: /home/ics-home/sentiment_analysis/social_media/merged_reviews.csv\n"
     ]
    }
   ],
   "source": [
    "for app_folder in os.listdir(main_folder):\n",
    "    app_path = os.path.join(main_folder, app_folder)\n",
    "    if os.path.isdir(app_path):\n",
    "        csv_path = os.path.join(app_path, 'merged_reviews.csv')\n",
    "        print(f\"Working on: {csv_path}\")\n",
    "        if os.path.isfile(csv_path):\n",
    "            df = pd.read_csv(csv_path)\n",
    "            dfs.append(df)"
   ]
  },
  {
   "cell_type": "markdown",
   "id": "ae35d109-f06b-4355-a309-27f9d7983b14",
   "metadata": {},
   "source": [
    "## Merging and Calculating Percentage"
   ]
  },
  {
   "cell_type": "code",
   "execution_count": 6,
   "id": "290e7700-13c4-444f-9301-5c4b142eee51",
   "metadata": {},
   "outputs": [],
   "source": [
    "merged_df = pd.concat(dfs)\n",
    "\n",
    "grouped = merged_df.groupby(['category', 'sentiment']).size().unstack()\n",
    "\n",
    "grouped['Positive_pct'] = grouped['positive'] / grouped.sum(axis=1)\n",
    "grouped['Negative_pct'] = grouped['negative'] / grouped.sum(axis=1)"
   ]
  },
  {
   "cell_type": "code",
   "execution_count": 13,
   "id": "ce33e408-cf99-4c2a-bd04-d218ff56804c",
   "metadata": {},
   "outputs": [
    {
     "data": {
      "text/html": [
       "<div>\n",
       "<style scoped>\n",
       "    .dataframe tbody tr th:only-of-type {\n",
       "        vertical-align: middle;\n",
       "    }\n",
       "\n",
       "    .dataframe tbody tr th {\n",
       "        vertical-align: top;\n",
       "    }\n",
       "\n",
       "    .dataframe thead th {\n",
       "        text-align: right;\n",
       "    }\n",
       "</style>\n",
       "<table border=\"1\" class=\"dataframe\">\n",
       "  <thead>\n",
       "    <tr style=\"text-align: right;\">\n",
       "      <th>sentiment</th>\n",
       "      <th>positive</th>\n",
       "      <th>Positive_pct</th>\n",
       "      <th>negative</th>\n",
       "      <th>Negative_pct</th>\n",
       "    </tr>\n",
       "    <tr>\n",
       "      <th>category</th>\n",
       "      <th></th>\n",
       "      <th></th>\n",
       "      <th></th>\n",
       "      <th></th>\n",
       "    </tr>\n",
       "  </thead>\n",
       "  <tbody>\n",
       "    <tr>\n",
       "      <th>Accessibility Apps</th>\n",
       "      <td>2700</td>\n",
       "      <td>0.526316</td>\n",
       "      <td>2430</td>\n",
       "      <td>0.473636</td>\n",
       "    </tr>\n",
       "    <tr>\n",
       "      <th>Browser</th>\n",
       "      <td>1072</td>\n",
       "      <td>0.588042</td>\n",
       "      <td>751</td>\n",
       "      <td>0.411825</td>\n",
       "    </tr>\n",
       "    <tr>\n",
       "      <th>Entertainment</th>\n",
       "      <td>1722</td>\n",
       "      <td>0.387314</td>\n",
       "      <td>2724</td>\n",
       "      <td>0.612632</td>\n",
       "    </tr>\n",
       "    <tr>\n",
       "      <th>Music</th>\n",
       "      <td>725</td>\n",
       "      <td>0.542665</td>\n",
       "      <td>611</td>\n",
       "      <td>0.457150</td>\n",
       "    </tr>\n",
       "    <tr>\n",
       "      <th>Shopping</th>\n",
       "      <td>1409</td>\n",
       "      <td>0.613409</td>\n",
       "      <td>888</td>\n",
       "      <td>0.386488</td>\n",
       "    </tr>\n",
       "    <tr>\n",
       "      <th>Social Media</th>\n",
       "      <td>1308</td>\n",
       "      <td>0.452595</td>\n",
       "      <td>1582</td>\n",
       "      <td>0.547319</td>\n",
       "    </tr>\n",
       "  </tbody>\n",
       "</table>\n",
       "</div>"
      ],
      "text/plain": [
       "sentiment           positive  Positive_pct  negative  Negative_pct\n",
       "category                                                          \n",
       "Accessibility Apps      2700      0.526316      2430      0.473636\n",
       "Browser                 1072      0.588042       751      0.411825\n",
       "Entertainment           1722      0.387314      2724      0.612632\n",
       "Music                    725      0.542665       611      0.457150\n",
       "Shopping                1409      0.613409       888      0.386488\n",
       "Social Media            1308      0.452595      1582      0.547319"
      ]
     },
     "execution_count": 13,
     "metadata": {},
     "output_type": "execute_result"
    }
   ],
   "source": [
    "grouped"
   ]
  },
  {
   "cell_type": "code",
   "execution_count": 12,
   "id": "1c69210a-b044-41fd-8040-955fcdadfc6a",
   "metadata": {},
   "outputs": [],
   "source": [
    "grouped = grouped.reindex(columns=['positive', 'Positive_pct', 'negative','Negative_pct'])"
   ]
  },
  {
   "cell_type": "markdown",
   "id": "84f3b5f9-8cf7-40f6-a56c-b0edf6d05990",
   "metadata": {},
   "source": [
    "## Create Plot"
   ]
  },
  {
   "cell_type": "code",
   "execution_count": 8,
   "id": "4ab88786-c351-424a-b48a-7c327318c24e",
   "metadata": {},
   "outputs": [
    {
     "data": {
      "text/plain": [
       "\"\\nax = grouped[['Positive_pct', 'Negative_pct']].plot(kind='bar', stacked=True, figsize=(10, 6))\\n\\nax.set_title('Percentage of Positive and Negative Reviews by App Category')\\nax.set_xlabel('App Category')\\nax.set_ylabel('Percentage')\\n\\n# Rotate the x-axis labels for readability\\nplt.xticks(rotation=45)\\n\""
      ]
     },
     "execution_count": 8,
     "metadata": {},
     "output_type": "execute_result"
    }
   ],
   "source": [
    "'''\n",
    "ax = grouped[['Positive_pct', 'Negative_pct']].plot(kind='bar', stacked=True, figsize=(10, 6))\n",
    "\n",
    "ax.set_title('Percentage of Positive and Negative Reviews by App Category')\n",
    "ax.set_xlabel('App Category')\n",
    "ax.set_ylabel('Percentage')\n",
    "\n",
    "# Rotate the x-axis labels for readability\n",
    "plt.xticks(rotation=45)\n",
    "'''"
   ]
  },
  {
   "cell_type": "code",
   "execution_count": 9,
   "id": "4c3b44c4-86bb-4c91-8c69-60c4b989d17a",
   "metadata": {},
   "outputs": [
    {
     "data": {
      "image/png": "[encoded data removed]",
      "text/plain": [
       "<Figure size 720x432 with 1 Axes>"
      ]
     },
     "metadata": {
      "needs_background": "light"
     },
     "output_type": "display_data"
    }
   ],
   "source": [
    "# Create a figure and axis\n",
    "fig, ax = plt.subplots(figsize=(10, 6))\n",
    "\n",
    "# Set the width of the bars\n",
    "bar_width = 0.25\n",
    "\n",
    "# Set the positions of the bars on the x-axis\n",
    "x_pos = np.arange(len(grouped.index))\n",
    "\n",
    "# Plot the positive and negative bars for each category\n",
    "ax.bar(x_pos, grouped['Positive_pct'], width=bar_width, align='center', color='green', label='Positive')\n",
    "ax.bar(x_pos + bar_width, grouped['Negative_pct'], width=bar_width, align='center', color='red', label='Negative', alpha=0.7)\n",
    "\n",
    "# Set the x-axis labels to the category names\n",
    "ax.set_xticks(x_pos + bar_width / 2)\n",
    "ax.set_xticklabels(grouped.index, rotation=45, ha='right')\n",
    "\n",
    "# Set the y-axis limits and labels\n",
    "ax.set_ylim(0, 1)\n",
    "ax.set_ylabel('Percentage')\n",
    "\n",
    "# Add a legend and title\n",
    "ax.legend()\n",
    "ax.set_title('Percentage of Positive and Negative Reviews by App Category')\n",
    "\n",
    "plt.show()"
   ]
  },
  {
   "cell_type": "code",
   "execution_count": null,
   "id": "9014aa7a-0dd0-4c0e-888f-e27076c56e40",
   "metadata": {},
   "outputs": [],
   "source": []
  },
  {
   "cell_type": "code",
   "execution_count": null,
   "id": "b87c05b1-8516-4346-86fc-cc91da69a03e",
   "metadata": {},
   "outputs": [],
   "source": []
  },
  {
   "cell_type": "code",
   "execution_count": null,
   "id": "ab307954-a17c-45a6-8635-5aa295c11bce",
   "metadata": {},
   "outputs": [],
   "source": []
  },
  {
   "cell_type": "code",
   "execution_count": 17,
   "id": "be835003-a8cd-4525-ae5f-d4948f9e3ce1",
   "metadata": {},
   "outputs": [
    {
     "data": {
      "image/png": "[encoded data removed]",
      "text/plain": [
       "<Figure size 432x288 with 1 Axes>"
      ]
     },
     "metadata": {
      "needs_background": "light"
     },
     "output_type": "display_data"
    }
   ],
   "source": [
    "import matplotlib.pyplot as plt\n",
    "import numpy as np\n",
    "import pandas as pd\n",
    "\n",
    "# create example dataframes\n",
    "df1 = pd.DataFrame({'Category': ['A', 'B', 'C', 'D', 'E'],\n",
    "                   'Positive': [50, 60, 70, 80, 90],\n",
    "                   'Negative': [50, 40, 30, 20, 10]})\n",
    "df2 = pd.DataFrame({'Category': ['A', 'B', 'C', 'D', 'E'],\n",
    "                   'Positive': [30, 40, 50, 60, 70],\n",
    "                   'Negative': [70, 60, 50, 40, 30]})\n",
    "\n",
    "# set width of the bars\n",
    "barWidth = 0.25\n",
    "\n",
    "# set heights of the bars\n",
    "bars1 = df1['Positive']\n",
    "bars2 = df1['Negative']\n",
    "bars3 = df2['Positive']\n",
    "bars4 = df2['Negative']\n",
    "\n",
    "# set positions of the bars on the x-axis\n",
    "r1 = np.arange(len(bars1))\n",
    "r2 = [x + barWidth for x in r1]\n",
    "r3 = [x + 2*barWidth for x in r1]\n",
    "r4 = [x + 3*barWidth for x in r1]\n",
    "\n",
    "# plot the bars\n",
    "plt.bar(r1, bars1, color='green', width=barWidth, edgecolor='white', label='Positive (Popular)')\n",
    "plt.bar(r2, bars2, color='red', width=barWidth, edgecolor='white', label='Negative (Popular)')\n",
    "plt.bar(r3, bars3, color='blue', width=barWidth, edgecolor='white', label='Positive (Less known)')\n",
    "plt.bar(r4, bars4, color='orange', width=barWidth, edgecolor='white', label='Negative (Less known)')\n",
    "\n",
    "# add xticks on the middle of the group bars\n",
    "plt.xlabel('App Category', fontweight='bold')\n",
    "plt.xticks([r + 1.5*barWidth for r in range(len(bars1))], df1['Category'])\n",
    "\n",
    "# add y-axis label\n",
    "plt.ylabel('Percentage (%)', fontweight='bold')\n",
    "\n",
    "# add legend\n",
    "plt.legend()\n",
    "\n",
    "# show plot\n",
    "plt.show()\n"
   ]
  },
  {
   "cell_type": "code",
   "execution_count": 20,
   "id": "af54f7a6-6e0e-40f0-9fe8-3ba790855a3a",
   "metadata": {},
   "outputs": [
    {
     "data": {
      "image/png": "[encoded data removed]",
      "text/plain": [
       "<Figure size 720x432 with 1 Axes>"
      ]
     },
     "metadata": {
      "needs_background": "light"
     },
     "output_type": "display_data"
    }
   ],
   "source": [
    "import matplotlib.pyplot as plt\n",
    "import pandas as pd\n",
    "import squarify\n",
    "\n",
    "# create example dataframes\n",
    "df1 = pd.DataFrame({'Category': ['A', 'B', 'C', 'D', 'E'],\n",
    "                   'Positive': [50, 60, 70, 80, 90],\n",
    "                   'Negative': [50, 40, 30, 20, 10]})\n",
    "df2 = pd.DataFrame({'Category': ['A', 'B', 'C', 'D', 'E'],\n",
    "                   'Positive': [30, 40, 50, 60, 70],\n",
    "                   'Negative': [70, 60, 50, 40, 30]})\n",
    "\n",
    "# combine dataframes\n",
    "df = pd.concat([df1, df2])\n",
    "df['Total'] = df['Positive'] + df['Negative']\n",
    "\n",
    "# create treemap\n",
    "plt.figure(figsize=(10, 6))\n",
    "squarify.plot(sizes=df['Total'], label=df['Category'], alpha=0.8, color=['green', 'red', 'blue', 'orange'])\n",
    "\n",
    "# add labels and legend\n",
    "plt.axis('off')\n",
    "plt.title('Positive and Negative Reviews by Category', fontweight='bold', fontsize=14)\n",
    "plt.legend(['Positive (Popular)', 'Negative (Popular)', 'Positive (Less Known)', 'Negative (Less Known)'], loc='lower right')\n",
    "\n",
    "# show plot\n",
    "plt.show()\n"
   ]
  },
  {
   "cell_type": "code",
   "execution_count": 19,
   "id": "cc83b08b-4b99-424b-91e6-05dacccf9344",
   "metadata": {},
   "outputs": [
    {
     "name": "stdout",
     "output_type": "stream",
     "text": [
      "Collecting squarify\n",
      "  Downloading squarify-0.4.3-py3-none-any.whl (4.3 kB)\n",
      "Installing collected packages: squarify\n",
      "Successfully installed squarify-0.4.3\n",
      "Note: you may need to restart the kernel to use updated packages.\n"
     ]
    }
   ],
   "source": [
    "pip install squarify"
   ]
  },
  {
   "cell_type": "code",
   "execution_count": 25,
   "id": "56411903-7a32-4e70-b884-f9ebe2f4de25",
   "metadata": {},
   "outputs": [
    {
     "data": {
      "image/png": "[encoded data removed]",
      "text/plain": [
       "<Figure size 720x432 with 1 Axes>"
      ]
     },
     "metadata": {
      "needs_background": "light"
     },
     "output_type": "display_data"
    }
   ],
   "source": [
    "import matplotlib.pyplot as plt\n",
    "import numpy as np\n",
    "\n",
    "# Create sample dataframes\n",
    "most_popular_apps = pd.DataFrame({'Category': ['Category A', 'Category B', 'Category C', 'Category D', 'Category E'],\n",
    "                                   'Positive': [30, 45, 60, 20, 35],\n",
    "                                   'Negative': [70, 55, 40, 80, 65]})\n",
    "\n",
    "less_known_apps = pd.DataFrame({'Category': ['Category A', 'Category B', 'Category C', 'Category D', 'Category E'],\n",
    "                                   'Positive': [20, 35, 50, 10, 25],\n",
    "                                   'Negative': [80, 65, 50, 90, 75]})\n",
    "\n",
    "# Set up data for grouped bar chart\n",
    "categories = most_popular_apps['Category']\n",
    "bar_width = 0.25\n",
    "x_pos1 = np.arange(len(categories))\n",
    "x_pos2 = [x + bar_width for x in x_pos1]\n",
    "\n",
    "# Create plot\n",
    "fig, ax = plt.subplots(figsize=(10, 6))\n",
    "plt.bar(x_pos1, most_popular_apps['Positive'], width=bar_width, color='b', label='Most Popular - Positive')\n",
    "plt.bar(x_pos1, most_popular_apps['Negative'], width=bar_width, color='r', bottom=most_popular_apps['Positive'], label='Most Popular - Negative')\n",
    "plt.bar(x_pos2, less_known_apps['Positive'], width=bar_width, color='g', label='Less Known - Positive')\n",
    "plt.bar(x_pos2, less_known_apps['Negative'], width=bar_width, color='y', bottom=less_known_apps['Positive'], label='Less Known - Negative')\n",
    "\n",
    "# Add labels and title\n",
    "plt.xlabel('Category')\n",
    "plt.ylabel('Percentage')\n",
    "plt.xticks(x_pos1 + bar_width/2, categories)\n",
    "plt.title('Percentage of Positive and Negative Reviews by Category')\n",
    "\n",
    "# Add legend\n",
    "plt.legend(loc='upper left')\n",
    "\n",
    "# Show plot\n",
    "plt.show()\n"
   ]
  },
  {
   "cell_type": "code",
   "execution_count": null,
   "id": "f481639e-ce3f-4d43-ad08-8e6e8f3c127a",
   "metadata": {},
   "outputs": [],
   "source": []
  }
 ],
 "metadata": {
  "kernelspec": {
   "display_name": "Python 3 (ipykernel)",
   "language": "python",
   "name": "python3"
  },
  "language_info": {
   "codemirror_mode": {
    "name": "ipython",
    "version": 3
   },
   "file_extension": ".py",
   "mimetype": "text/x-python",
   "name": "python",
   "nbconvert_exporter": "python",
   "pygments_lexer": "ipython3",
   "version": "3.9.7"
  }
 },
 "nbformat": 4,
 "nbformat_minor": 5
}
