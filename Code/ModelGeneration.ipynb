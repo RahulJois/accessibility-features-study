{
 "cells": [
  {
   "cell_type": "markdown",
   "id": "ce276c9c-9c91-43da-9d69-0f6d5d2ed443",
   "metadata": {},
   "source": [
    "## PIP Installs"
   ]
  },
  {
   "cell_type": "code",
   "execution_count": 1,
   "id": "828419b9-1391-4775-97ae-e07d95df8a97",
   "metadata": {},
   "outputs": [
    {
     "data": {
      "text/plain": [
       "'\\n!git clone https://github.com/laxmimerit/IMDB-Movie-Reviews-Large-Dataset-50k.git\\n!pip install openpyxl\\n!git clone https://github.com/amitt001/Android-App-Reviews-Dataset.git\\n!pip install spacy==2.2.3\\n!pip install beautifulsoup4==4.9.1\\n!pip install textblob==0.15.3\\n!pip install git+https://github.com/laxmimerit/preprocess_kgptalkie.git\\n!pip install -U pip setuptools wheel\\n!pip install -U spacy\\n!python -m spacy download en_core_web_sm\\n'"
      ]
     },
     "execution_count": 1,
     "metadata": {},
     "output_type": "execute_result"
    }
   ],
   "source": [
    "'''\n",
    "!git clone https://github.com/laxmimerit/IMDB-Movie-Reviews-Large-Dataset-50k.git\n",
    "!pip install openpyxl\n",
    "!git clone https://github.com/amitt001/Android-App-Reviews-Dataset.git\n",
    "!pip install spacy==2.2.3\n",
    "!pip install beautifulsoup4==4.9.1\n",
    "!pip install textblob==0.15.3\n",
    "!pip install git+https://github.com/laxmimerit/preprocess_kgptalkie.git\n",
    "!pip install -U pip setuptools wheel\n",
    "!pip install -U spacy\n",
    "!python -m spacy download en_core_web_sm\n",
    "'''"
   ]
  },
  {
   "cell_type": "markdown",
   "id": "423bf8d5-aae7-494e-9fc5-8357f362f36b",
   "metadata": {},
   "source": [
    "## Imports"
   ]
  },
  {
   "cell_type": "code",
   "execution_count": 3,
   "id": "06e9a115-ce14-4f5a-929a-0a56064645aa",
   "metadata": {},
   "outputs": [],
   "source": [
    "from sklearn.feature_extraction.text import TfidfVectorizer\n",
    "from sklearn.model_selection import train_test_split\n",
    "from sklearn.svm import LinearSVC\n",
    "from sklearn.metrics import classification_report\n",
    "import preprocess_kgptalkie as ps\n",
    "import re\n",
    "import pandas as pd\n",
    "import numpy as np\n",
    "import pickle\n",
    "import os"
   ]
  },
  {
   "cell_type": "markdown",
   "id": "cb44f74f-7d25-4b79-ac05-3c62840fbaea",
   "metadata": {},
   "source": [
    "## Read Dataset"
   ]
  },
  {
   "cell_type": "code",
   "execution_count": 3,
   "id": "58a29301-1b2f-4cdc-be82-b8d2e9008373",
   "metadata": {},
   "outputs": [],
   "source": [
    "# Read negative sentiment text file\n",
    "df_dataset1 = pd.read_csv('Android-App-Reviews-Dataset/negative10k.txt', header=None, names=['Reviews'], sep='\\t', lineterminator='\\n')\n",
    "df_dataset1 = df_dataset1.assign(Sentiment='negative')\n",
    "\n",
    "# Read positive sentiment text file\n",
    "df_dataset2 = pd.read_csv('Android-App-Reviews-Dataset/positive10k.txt', header=None, names=['Reviews'], sep='\\t', lineterminator='\\n')\n",
    "df_dataset2 = df_dataset2.assign(Sentiment='positive')\n",
    "\n",
    "#Merge two datasets\n",
    "df_dataset = pd.concat([df_dataset1,df_dataset2])\n"
   ]
  },
  {
   "cell_type": "markdown",
   "id": "3a9d8d12-2e4b-4943-9a4d-910424898891",
   "metadata": {},
   "source": [
    "## Clean Function"
   ]
  },
  {
   "cell_type": "code",
   "execution_count": 4,
   "id": "d4086c1d-4e0d-4247-8283-6ad137c45456",
   "metadata": {},
   "outputs": [
    {
     "data": {
      "text/html": [
       "<div>\n",
       "<style scoped>\n",
       "    .dataframe tbody tr th:only-of-type {\n",
       "        vertical-align: middle;\n",
       "    }\n",
       "\n",
       "    .dataframe tbody tr th {\n",
       "        vertical-align: top;\n",
       "    }\n",
       "\n",
       "    .dataframe thead th {\n",
       "        text-align: right;\n",
       "    }\n",
       "</style>\n",
       "<table border=\"1\" class=\"dataframe\">\n",
       "  <thead>\n",
       "    <tr style=\"text-align: right;\">\n",
       "      <th></th>\n",
       "      <th>Reviews</th>\n",
       "      <th>Sentiment</th>\n",
       "    </tr>\n",
       "  </thead>\n",
       "  <tbody>\n",
       "    <tr>\n",
       "      <th>0</th>\n",
       "      <td>ya no i would your going make an application m...</td>\n",
       "      <td>negative</td>\n",
       "    </tr>\n",
       "    <tr>\n",
       "      <th>1</th>\n",
       "      <td>stupid adds the stupid adds pop up every 5 sec...</td>\n",
       "      <td>negative</td>\n",
       "    </tr>\n",
       "    <tr>\n",
       "      <th>2</th>\n",
       "      <td>what the fuck needs way more detail 1 sun shou...</td>\n",
       "      <td>negative</td>\n",
       "    </tr>\n",
       "    <tr>\n",
       "      <th>3</th>\n",
       "      <td>i love this game but all of a sudden it when i...</td>\n",
       "      <td>negative</td>\n",
       "    </tr>\n",
       "    <tr>\n",
       "      <th>4</th>\n",
       "      <td>mark now i cannot send photo and images pls fi...</td>\n",
       "      <td>negative</td>\n",
       "    </tr>\n",
       "  </tbody>\n",
       "</table>\n",
       "</div>"
      ],
      "text/plain": [
       "                                             Reviews Sentiment\n",
       "0  ya no i would your going make an application m...  negative\n",
       "1  stupid adds the stupid adds pop up every 5 sec...  negative\n",
       "2  what the fuck needs way more detail 1 sun shou...  negative\n",
       "3  i love this game but all of a sudden it when i...  negative\n",
       "4  mark now i cannot send photo and images pls fi...  negative"
      ]
     },
     "execution_count": 4,
     "metadata": {},
     "output_type": "execute_result"
    }
   ],
   "source": [
    "def get_clean(x):\n",
    "    x = str(x).lower().replace('\\\\', '').replace('_', ' ')\n",
    "    x = ps.cont_exp(x)\n",
    "    x = ps.remove_emails(x)\n",
    "    x = ps.remove_urls(x)\n",
    "    #x = ps.remove_html_tags(x)\n",
    "    x = ps.remove_accented_chars(x)\n",
    "    x = ps.remove_special_chars(x)\n",
    "    x = re.sub(\"(.)\\\\1{2,}\", \"\\\\1\", x)\n",
    "    return x\n",
    "\n",
    "df_dataset['Reviews'] = df_dataset['Reviews'].apply(lambda x: get_clean(x))\n",
    "df_dataset.head()"
   ]
  },
  {
   "cell_type": "markdown",
   "id": "7016d856-09cd-4207-9391-b97454d56311",
   "metadata": {},
   "source": [
    "## Model Training"
   ]
  },
  {
   "cell_type": "code",
   "execution_count": 5,
   "id": "84832eb0-b412-4f84-bc22-172e753a768e",
   "metadata": {},
   "outputs": [],
   "source": [
    "tfidf = TfidfVectorizer(max_features=5000)\n",
    "X = df_dataset['Reviews']\n",
    "y = df_dataset['Sentiment']\n",
    "\n",
    "X = tfidf.fit_transform(X)\n",
    "X_train, X_test, y_train, y_test = train_test_split(X, y, test_size = 0.2, random_state = 0)\n",
    "\n",
    "clf = LinearSVC()\n",
    "clf.fit(X_train, y_train)\n",
    "y_pred = clf.predict(X_test)"
   ]
  },
  {
   "cell_type": "markdown",
   "id": "d5903214-740a-4686-bb5c-44de25ce08db",
   "metadata": {},
   "source": [
    "## Classification Score"
   ]
  },
  {
   "cell_type": "code",
   "execution_count": 6,
   "id": "5bf51b7a-44ee-4fa2-b472-c96e867049dc",
   "metadata": {},
   "outputs": [
    {
     "name": "stdout",
     "output_type": "stream",
     "text": [
      "              precision    recall  f1-score   support\n",
      "\n",
      "    negative       0.88      0.88      0.88      1940\n",
      "    positive       0.88      0.89      0.89      1997\n",
      "\n",
      "    accuracy                           0.88      3937\n",
      "   macro avg       0.88      0.88      0.88      3937\n",
      "weighted avg       0.88      0.88      0.88      3937\n",
      "\n"
     ]
    }
   ],
   "source": [
    "print(classification_report(y_test, y_pred))"
   ]
  },
  {
   "cell_type": "markdown",
   "id": "e5419477-efa2-467a-a3f8-3de086a2e7c2",
   "metadata": {},
   "source": [
    "## Save Model to File"
   ]
  },
  {
   "cell_type": "code",
   "execution_count": 7,
   "id": "d3ac52ad-fe4e-497c-9cbd-81fd51b01b53",
   "metadata": {},
   "outputs": [],
   "source": [
    "pickle.dump(clf, open('model.pkl', 'wb'))\n",
    "pickle.dump(tfidf, open('tfidf.pkl', 'wb'))"
   ]
  },
  {
   "cell_type": "code",
   "execution_count": 2,
   "id": "b05b4a87-2fbb-4a20-bf49-6abdeed084e1",
   "metadata": {},
   "outputs": [],
   "source": [
    "folders = ['apps_made_for_disabled/','browser/','entertainment/','music/','shopping/','social_media/']"
   ]
  },
  {
   "cell_type": "code",
   "execution_count": 6,
   "id": "96951be8-14c1-4b9e-8715-ad6027ebfc2d",
   "metadata": {},
   "outputs": [
    {
     "name": "stderr",
     "output_type": "stream",
     "text": [
      "/tmp/ipykernel_14407/2248178964.py:6: DtypeWarning: Columns (9,10) have mixed types. Specify dtype option on import or set low_memory=False.\n",
      "  df = pd.read_csv(os.path.join(folder,file))\n",
      "/tmp/ipykernel_14407/2248178964.py:6: DtypeWarning: Columns (9,10) have mixed types. Specify dtype option on import or set low_memory=False.\n",
      "  df = pd.read_csv(os.path.join(folder,file))\n",
      "/tmp/ipykernel_14407/2248178964.py:6: DtypeWarning: Columns (9,10) have mixed types. Specify dtype option on import or set low_memory=False.\n",
      "  df = pd.read_csv(os.path.join(folder,file))\n",
      "/tmp/ipykernel_14407/2248178964.py:6: DtypeWarning: Columns (9,10) have mixed types. Specify dtype option on import or set low_memory=False.\n",
      "  df = pd.read_csv(os.path.join(folder,file))\n"
     ]
    }
   ],
   "source": [
    "num_reviews = 0\n",
    "for folder in folders:\n",
    "    files = os.listdir(folder)\n",
    "    for file in files:\n",
    "        if '.csv' in file:\n",
    "            df = pd.read_csv(os.path.join(folder,file))\n",
    "            num_reviews += df.shape[0]\n"
   ]
  },
  {
   "cell_type": "code",
   "execution_count": 7,
   "id": "5885ce00-a325-459f-b1c3-1a2b81fbf54f",
   "metadata": {},
   "outputs": [
    {
     "data": {
      "text/plain": [
       "11002019"
      ]
     },
     "execution_count": 7,
     "metadata": {},
     "output_type": "execute_result"
    }
   ],
   "source": [
    "num_reviews"
   ]
  },
  {
   "cell_type": "code",
   "execution_count": null,
   "id": "e3e5704b-18d4-46d9-802d-6ec8b1b6828a",
   "metadata": {},
   "outputs": [],
   "source": []
  }
 ],
 "metadata": {
  "kernelspec": {
   "display_name": "Python 3 (ipykernel)",
   "language": "python",
   "name": "python3"
  },
  "language_info": {
   "codemirror_mode": {
    "name": "ipython",
    "version": 3
   },
   "file_extension": ".py",
   "mimetype": "text/x-python",
   "name": "python",
   "nbconvert_exporter": "python",
   "pygments_lexer": "ipython3",
   "version": "3.9.7"
  }
 },
 "nbformat": 4,
 "nbformat_minor": 5
}
